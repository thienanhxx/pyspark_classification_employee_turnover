{
 "cells": [
  {
   "cell_type": "code",
   "execution_count": 1,
   "id": "0de11035-08f2-4005-bcff-1c5a78edbfda",
   "metadata": {},
   "outputs": [],
   "source": [
    "import findspark\n",
    "findspark.init()"
   ]
  },
  {
   "cell_type": "code",
   "execution_count": 2,
   "id": "1a6ff058-481a-42e7-baad-98933b53c6ca",
   "metadata": {},
   "outputs": [],
   "source": [
    "from pyspark.sql import SparkSession\n",
    "from pyspark import SparkContext\n",
    "from pyspark.sql import SQLContext"
   ]
  },
  {
   "cell_type": "code",
   "execution_count": 3,
   "id": "09b13eab-6517-48cb-bbbb-b85fc8689d93",
   "metadata": {},
   "outputs": [],
   "source": [
    "sc = SparkContext()"
   ]
  },
  {
   "cell_type": "code",
   "execution_count": 4,
   "id": "259f7a64-0d98-4f0d-9c82-cfde709a6210",
   "metadata": {},
   "outputs": [],
   "source": [
    "spark = SparkSession(sc)"
   ]
  },
  {
   "cell_type": "markdown",
   "id": "faea4cbc-547a-4cf6-967e-f4abd66cb79e",
   "metadata": {},
   "source": [
    "### Read the dataset"
   ]
  },
  {
   "cell_type": "code",
   "execution_count": 5,
   "id": "d767e478-8b3a-4186-ba7a-991263420617",
   "metadata": {},
   "outputs": [],
   "source": [
    "data = spark.read.csv('Du_lieu_cung_cap/turnover.csv', header=True, inferSchema=True)"
   ]
  },
  {
   "cell_type": "code",
   "execution_count": 6,
   "id": "5a9a7ffa-38b7-4bfe-a429-bbcf479c4990",
   "metadata": {},
   "outputs": [
    {
     "name": "stdout",
     "output_type": "stream",
     "text": [
      "+-----------+-----+------+----+---------------+----------+-----------+-----+-----------+--------+---+------------+--------+-----------+-------+-------+\n",
      "|       stag|event|gender| age|       industry|profession|    traffic|coach|head_gender|greywage|way|extraversion|independ|selfcontrol|anxiety|novator|\n",
      "+-----------+-----+------+----+---------------+----------+-----------+-----+-----------+--------+---+------------+--------+-----------+-------+-------+\n",
      "|7.030800821|    1|     m|35.0|          Banks|        HR|rabrecNErab|   no|          f|   white|bus|         6.2|     4.1|        5.7|    7.1|    8.3|\n",
      "| 22.9650924|    1|     m|33.0|          Banks|        HR|      empjs|   no|          m|   white|bus|         6.2|     4.1|        5.7|    7.1|    8.3|\n",
      "|15.93429158|    1|     f|35.0|PowerGeneration|        HR|rabrecNErab|   no|          m|   white|bus|         6.2|     6.2|        2.6|    4.8|    8.3|\n",
      "|15.93429158|    1|     f|35.0|PowerGeneration|        HR|rabrecNErab|   no|          m|   white|bus|         5.4|     7.6|        4.9|    2.5|    6.7|\n",
      "|8.410677618|    1|     m|32.0|         Retail|Commercial|      youjs|  yes|          f|   white|bus|         3.0|     4.1|        8.0|    7.1|    3.7|\n",
      "|8.969199179|    1|     f|42.0|    manufacture|        HR|      empjs|  yes|          m|   white|bus|         6.2|     6.2|        4.1|    5.6|    6.7|\n",
      "|8.969199179|    1|     f|42.0|    manufacture|        HR|      empjs|  yes|          m|   white|bus|         6.2|     6.2|        4.1|    5.6|    6.7|\n",
      "|120.4435318|    1|     f|28.0|         Retail|        HR|    referal|   no|          m|   white|bus|         3.8|     5.5|        8.0|    4.0|    4.4|\n",
      "|8.607802875|    1|     f|29.0|          Banks|        HR|      empjs|   no|          f|   white|bus|         8.6|     6.9|        2.6|    4.0|    7.5|\n",
      "|4.435318275|    1|     f|30.0|        Consult| Marketing|      youjs|  yes|          m|   white|bus|         5.4|     5.5|        3.3|    7.9|    8.3|\n",
      "+-----------+-----+------+----+---------------+----------+-----------+-----+-----------+--------+---+------------+--------+-----------+-------+-------+\n",
      "only showing top 10 rows\n",
      "\n"
     ]
    }
   ],
   "source": [
    "data.show(10)"
   ]
  },
  {
   "cell_type": "code",
   "execution_count": 7,
   "id": "8e8bd225-cb94-4c38-a0bd-e92bb8294be0",
   "metadata": {},
   "outputs": [
    {
     "data": {
      "text/plain": [
       "1129"
      ]
     },
     "execution_count": 7,
     "metadata": {},
     "output_type": "execute_result"
    }
   ],
   "source": [
    "data.count()"
   ]
  },
  {
   "cell_type": "code",
   "execution_count": 8,
   "id": "3c9b53b2-d1c0-46c8-a474-8ae38f89c2c8",
   "metadata": {},
   "outputs": [
    {
     "name": "stdout",
     "output_type": "stream",
     "text": [
      "root\n",
      " |-- stag: double (nullable = true)\n",
      " |-- event: integer (nullable = true)\n",
      " |-- gender: string (nullable = true)\n",
      " |-- age: double (nullable = true)\n",
      " |-- industry: string (nullable = true)\n",
      " |-- profession: string (nullable = true)\n",
      " |-- traffic: string (nullable = true)\n",
      " |-- coach: string (nullable = true)\n",
      " |-- head_gender: string (nullable = true)\n",
      " |-- greywage: string (nullable = true)\n",
      " |-- way: string (nullable = true)\n",
      " |-- extraversion: double (nullable = true)\n",
      " |-- independ: double (nullable = true)\n",
      " |-- selfcontrol: double (nullable = true)\n",
      " |-- anxiety: double (nullable = true)\n",
      " |-- novator: double (nullable = true)\n",
      "\n"
     ]
    }
   ],
   "source": [
    "data.printSchema()"
   ]
  },
  {
   "cell_type": "markdown",
   "id": "bddbbd81-c795-403a-8577-0ce8a1b83fa1",
   "metadata": {},
   "source": [
    "### Categorical variable"
   ]
  },
  {
   "cell_type": "code",
   "execution_count": 9,
   "id": "3e6df8b5-cb28-487c-a6de-2bb9cd22ecbd",
   "metadata": {},
   "outputs": [],
   "source": [
    "from pyspark.ml.feature import StringIndexer, OneHotEncoder\n",
    "from pyspark.ml import Pipeline"
   ]
  },
  {
   "cell_type": "code",
   "execution_count": 10,
   "id": "1491efc2-e42d-4cff-a161-97ab8fc3d598",
   "metadata": {},
   "outputs": [],
   "source": [
    "# indexers = [StringIndexer(inputCol=column, outputCol=column+'_idx').fit(data) for column in list(set(data.columns)-set(['stag', 'event',\n",
    "#                                                                                                                        'age', 'extraversion', \n",
    "#                                                                                                                         'independ', 'independ', \n",
    "#                                                                                                                         'selfcontrol', 'anxiety',\n",
    "#                                                                                                                         'novator'\n",
    "#                                                                                                                        ]))]"
   ]
  },
  {
   "cell_type": "code",
   "execution_count": 11,
   "id": "a194b70f-f129-41e9-bc8e-93948f06230a",
   "metadata": {},
   "outputs": [],
   "source": [
    "categorical_columns= ['gender', 'industry', 'profession', 'traffic','coach','head_gender','greywage','way']\n",
    "\n",
    "# The index of string values multiple columns\n",
    "indexers = [\n",
    "    StringIndexer(inputCol=c, outputCol='{0}_indexed'.format(c))\n",
    "    for c in categorical_columns\n",
    "]\n",
    "\n",
    "# The encode of indexed values multiple columns\n",
    "encoders = [OneHotEncoder(dropLast=True,inputCol=indexer.getOutputCol(),\n",
    "            outputCol='{0}_encoded'.format(indexer.getOutputCol())) \n",
    "    for indexer in indexers\n",
    "]"
   ]
  },
  {
   "cell_type": "code",
   "execution_count": 12,
   "id": "16908f90-032a-40bc-afd5-5c4b2410598b",
   "metadata": {},
   "outputs": [],
   "source": [
    "pipeline = Pipeline(stages=indexers + encoders)\n",
    "data_indexed=pipeline.fit(data).transform(data)"
   ]
  },
  {
   "cell_type": "code",
   "execution_count": 13,
   "id": "fb1a2c2f-bf4a-422a-97d0-a15e5e5dd9c6",
   "metadata": {},
   "outputs": [],
   "source": [
    "# pipeline = Pipeline(stages=indexers)\n",
    "# data_indexed = pipeline.fit(data).transform(data)"
   ]
  },
  {
   "cell_type": "markdown",
   "id": "8ce35755-b472-4ec0-b463-78886455bd9a",
   "metadata": {},
   "source": [
    "### Assembling columns"
   ]
  },
  {
   "cell_type": "code",
   "execution_count": 14,
   "id": "68a717c4-29c1-4bda-860d-599aff3774a1",
   "metadata": {},
   "outputs": [],
   "source": [
    "from pyspark.ml.linalg import Vectors\n",
    "from pyspark.ml.feature import VectorAssembler"
   ]
  },
  {
   "cell_type": "code",
   "execution_count": 15,
   "id": "2a81e4f0-92fc-48d5-96fd-60afcdeb8f75",
   "metadata": {},
   "outputs": [
    {
     "data": {
      "text/plain": [
       "['stag',\n",
       " 'event',\n",
       " 'gender',\n",
       " 'age',\n",
       " 'industry',\n",
       " 'profession',\n",
       " 'traffic',\n",
       " 'coach',\n",
       " 'head_gender',\n",
       " 'greywage',\n",
       " 'way',\n",
       " 'extraversion',\n",
       " 'independ',\n",
       " 'selfcontrol',\n",
       " 'anxiety',\n",
       " 'novator',\n",
       " 'gender_indexed',\n",
       " 'industry_indexed',\n",
       " 'profession_indexed',\n",
       " 'traffic_indexed',\n",
       " 'coach_indexed',\n",
       " 'head_gender_indexed',\n",
       " 'greywage_indexed',\n",
       " 'way_indexed',\n",
       " 'gender_indexed_encoded',\n",
       " 'industry_indexed_encoded',\n",
       " 'profession_indexed_encoded',\n",
       " 'traffic_indexed_encoded',\n",
       " 'coach_indexed_encoded',\n",
       " 'head_gender_indexed_encoded',\n",
       " 'greywage_indexed_encoded',\n",
       " 'way_indexed_encoded']"
      ]
     },
     "execution_count": 15,
     "metadata": {},
     "output_type": "execute_result"
    }
   ],
   "source": [
    "data_indexed.columns"
   ]
  },
  {
   "cell_type": "code",
   "execution_count": 16,
   "id": "988af577-7e76-4a6a-bc29-ea5b994bfbed",
   "metadata": {},
   "outputs": [
    {
     "name": "stdout",
     "output_type": "stream",
     "text": [
      "+-----------+-----+------+----+---------------+----------+-----------+-----+-----------+--------+---+------------+--------+-----------+-------+-------+--------------+----------------+------------------+---------------+-------------+-------------------+----------------+-----------+----------------------+------------------------+--------------------------+-----------------------+---------------------+---------------------------+------------------------+-------------------+\n",
      "|       stag|event|gender| age|       industry|profession|    traffic|coach|head_gender|greywage|way|extraversion|independ|selfcontrol|anxiety|novator|gender_indexed|industry_indexed|profession_indexed|traffic_indexed|coach_indexed|head_gender_indexed|greywage_indexed|way_indexed|gender_indexed_encoded|industry_indexed_encoded|profession_indexed_encoded|traffic_indexed_encoded|coach_indexed_encoded|head_gender_indexed_encoded|greywage_indexed_encoded|way_indexed_encoded|\n",
      "+-----------+-----+------+----+---------------+----------+-----------+-----+-----------+--------+---+------------+--------+-----------+-------+-------+--------------+----------------+------------------+---------------+-------------+-------------------+----------------+-----------+----------------------+------------------------+--------------------------+-----------------------+---------------------+---------------------------+------------------------+-------------------+\n",
      "|7.030800821|    1|     m|35.0|          Banks|        HR|rabrecNErab|   no|          f|   white|bus|         6.2|     4.1|        5.7|    7.1|    8.3|           1.0|             3.0|               0.0|            2.0|          0.0|                1.0|             0.0|        0.0|             (1,[],[])|          (15,[3],[1.0])|            (14,[0],[1.0])|          (7,[2],[1.0])|        (2,[0],[1.0])|                  (1,[],[])|           (1,[0],[1.0])|      (2,[0],[1.0])|\n",
      "| 22.9650924|    1|     m|33.0|          Banks|        HR|      empjs|   no|          m|   white|bus|         6.2|     4.1|        5.7|    7.1|    8.3|           1.0|             3.0|               0.0|            1.0|          0.0|                0.0|             0.0|        0.0|             (1,[],[])|          (15,[3],[1.0])|            (14,[0],[1.0])|          (7,[1],[1.0])|        (2,[0],[1.0])|              (1,[0],[1.0])|           (1,[0],[1.0])|      (2,[0],[1.0])|\n",
      "|15.93429158|    1|     f|35.0|PowerGeneration|        HR|rabrecNErab|   no|          m|   white|bus|         6.2|     6.2|        2.6|    4.8|    8.3|           0.0|             8.0|               0.0|            2.0|          0.0|                0.0|             0.0|        0.0|         (1,[0],[1.0])|          (15,[8],[1.0])|            (14,[0],[1.0])|          (7,[2],[1.0])|        (2,[0],[1.0])|              (1,[0],[1.0])|           (1,[0],[1.0])|      (2,[0],[1.0])|\n",
      "|15.93429158|    1|     f|35.0|PowerGeneration|        HR|rabrecNErab|   no|          m|   white|bus|         5.4|     7.6|        4.9|    2.5|    6.7|           0.0|             8.0|               0.0|            2.0|          0.0|                0.0|             0.0|        0.0|         (1,[0],[1.0])|          (15,[8],[1.0])|            (14,[0],[1.0])|          (7,[2],[1.0])|        (2,[0],[1.0])|              (1,[0],[1.0])|           (1,[0],[1.0])|      (2,[0],[1.0])|\n",
      "|8.410677618|    1|     m|32.0|         Retail|Commercial|      youjs|  yes|          f|   white|bus|         3.0|     4.1|        8.0|    7.1|    3.7|           1.0|             0.0|               7.0|            0.0|          2.0|                1.0|             0.0|        0.0|             (1,[],[])|          (15,[0],[1.0])|            (14,[7],[1.0])|          (7,[0],[1.0])|            (2,[],[])|                  (1,[],[])|           (1,[0],[1.0])|      (2,[0],[1.0])|\n",
      "+-----------+-----+------+----+---------------+----------+-----------+-----+-----------+--------+---+------------+--------+-----------+-------+-------+--------------+----------------+------------------+---------------+-------------+-------------------+----------------+-----------+----------------------+------------------------+--------------------------+-----------------------+---------------------+---------------------------+------------------------+-------------------+\n",
      "only showing top 5 rows\n",
      "\n"
     ]
    }
   ],
   "source": [
    "data_indexed.show(5)"
   ]
  },
  {
   "cell_type": "code",
   "execution_count": 17,
   "id": "fb494ea1-1ec4-4f28-bf8e-4118e5fcaf45",
   "metadata": {},
   "outputs": [],
   "source": [
    "assembler = VectorAssembler(inputCols = ['stag',\n",
    " 'age',\n",
    " 'extraversion',\n",
    " 'independ',\n",
    " 'selfcontrol',\n",
    " 'anxiety',\n",
    " 'novator',\n",
    " 'gender_indexed_encoded',\n",
    " 'industry_indexed_encoded',\n",
    " 'profession_indexed_encoded',\n",
    " 'traffic_indexed_encoded',\n",
    " 'coach_indexed_encoded',\n",
    " 'head_gender_indexed_encoded',\n",
    " 'greywage_indexed_encoded',\n",
    " 'way_indexed_encoded'],\n",
    "                            outputCol = 'features')"
   ]
  },
  {
   "cell_type": "code",
   "execution_count": 18,
   "id": "de7df7db-cfcd-4029-86bf-1ff07b1d3a06",
   "metadata": {},
   "outputs": [],
   "source": [
    "output = assembler.transform(data_indexed)"
   ]
  },
  {
   "cell_type": "code",
   "execution_count": 19,
   "id": "947a3702-5ec4-4c7a-8d1e-205907f24d40",
   "metadata": {},
   "outputs": [
    {
     "name": "stdout",
     "output_type": "stream",
     "text": [
      "+------------------------------------------------------------------------------------------------------------------+-----+\n",
      "|features                                                                                                          |event|\n",
      "+------------------------------------------------------------------------------------------------------------------+-----+\n",
      "|(50,[0,1,2,3,4,5,6,11,23,39,44,47,48],[7.030800821,35.0,6.2,4.1,5.7,7.1,8.3,1.0,1.0,1.0,1.0,1.0,1.0])             |1    |\n",
      "|(50,[0,1,2,3,4,5,6,11,23,38,44,46,47,48],[22.9650924,33.0,6.2,4.1,5.7,7.1,8.3,1.0,1.0,1.0,1.0,1.0,1.0,1.0])       |1    |\n",
      "|(50,[0,1,2,3,4,5,6,7,16,23,39,44,46,47,48],[15.93429158,35.0,6.2,6.2,2.6,4.8,8.3,1.0,1.0,1.0,1.0,1.0,1.0,1.0,1.0])|1    |\n",
      "|(50,[0,1,2,3,4,5,6,7,16,23,39,44,46,47,48],[15.93429158,35.0,5.4,7.6,4.9,2.5,6.7,1.0,1.0,1.0,1.0,1.0,1.0,1.0,1.0])|1    |\n",
      "|(50,[0,1,2,3,4,5,6,8,30,37,47,48],[8.410677618,32.0,3.0,4.1,8.0,7.1,3.7,1.0,1.0,1.0,1.0,1.0])                     |1    |\n",
      "+------------------------------------------------------------------------------------------------------------------+-----+\n",
      "only showing top 5 rows\n",
      "\n"
     ]
    }
   ],
   "source": [
    "final_data = output.select('features', 'event')\n",
    "final_data.show(5, False)"
   ]
  },
  {
   "cell_type": "code",
   "execution_count": 20,
   "id": "47ac31a3-6fe1-4559-b065-0871351c6562",
   "metadata": {},
   "outputs": [
    {
     "data": {
      "text/plain": [
       "1129"
      ]
     },
     "execution_count": 20,
     "metadata": {},
     "output_type": "execute_result"
    }
   ],
   "source": [
    "final_data.count()"
   ]
  },
  {
   "cell_type": "code",
   "execution_count": 21,
   "id": "e46b4293-e61b-4855-8c03-09ff3b8277fb",
   "metadata": {},
   "outputs": [
    {
     "data": {
      "text/plain": [
       "1129"
      ]
     },
     "execution_count": 21,
     "metadata": {},
     "output_type": "execute_result"
    }
   ],
   "source": [
    "final_data = final_data.na.drop()\n",
    "final_data.count()"
   ]
  },
  {
   "cell_type": "markdown",
   "id": "69495133-a304-4901-83a3-8a42a7cb5dbc",
   "metadata": {},
   "source": [
    "- Không có dữ liệu na"
   ]
  },
  {
   "cell_type": "markdown",
   "id": "eb15fd1a-5c15-44d6-bace-44ef486915f6",
   "metadata": {},
   "source": [
    "### Chia dữ liệu train-test"
   ]
  },
  {
   "cell_type": "code",
   "execution_count": 22,
   "id": "b0731549-3a6d-431f-a592-e113a638e56a",
   "metadata": {},
   "outputs": [],
   "source": [
    "train_data, test_data = final_data.randomSplit([0.8, 0.2])"
   ]
  },
  {
   "cell_type": "code",
   "execution_count": 23,
   "id": "9757b4e6-3bbe-4b79-ad1f-17c3861cbc84",
   "metadata": {},
   "outputs": [],
   "source": [
    "# Rename column name 'event' to 'label' to use ParamGrid later\n",
    "train_data = train_data.withColumnRenamed('event', 'label')\n",
    "test_data = test_data.withColumnRenamed('event', 'label')"
   ]
  },
  {
   "cell_type": "code",
   "execution_count": 24,
   "id": "2da83957-11cd-42d3-bcbe-36a2b063c4ab",
   "metadata": {},
   "outputs": [
    {
     "name": "stdout",
     "output_type": "stream",
     "text": [
      "+-------+------------------+\n",
      "|summary|             label|\n",
      "+-------+------------------+\n",
      "|  count|               898|\n",
      "|   mean|0.5267260579064588|\n",
      "| stddev|0.4995634377414268|\n",
      "|    min|                 0|\n",
      "|    max|                 1|\n",
      "+-------+------------------+\n",
      "\n"
     ]
    }
   ],
   "source": [
    "train_data.describe().show()"
   ]
  },
  {
   "cell_type": "code",
   "execution_count": 25,
   "id": "ed18111a-98e9-4772-afb0-71ddf004dda2",
   "metadata": {},
   "outputs": [
    {
     "name": "stdout",
     "output_type": "stream",
     "text": [
      "+-------+-------------------+\n",
      "|summary|              label|\n",
      "+-------+-------------------+\n",
      "|  count|                231|\n",
      "|   mean|0.42424242424242425|\n",
      "| stddev|0.49530070982069074|\n",
      "|    min|                  0|\n",
      "|    max|                  1|\n",
      "+-------+-------------------+\n",
      "\n"
     ]
    }
   ],
   "source": [
    "test_data.describe().show()"
   ]
  },
  {
   "cell_type": "markdown",
   "id": "33b038a4-837c-4678-84d9-279cb7610b5d",
   "metadata": {},
   "source": [
    "### Xây dựng model với LogisticRegression"
   ]
  },
  {
   "cell_type": "code",
   "execution_count": 26,
   "id": "e3780307-f581-4bc0-8ed4-29d3cdeeac1a",
   "metadata": {},
   "outputs": [],
   "source": [
    "from pyspark.ml.classification import LogisticRegression"
   ]
  },
  {
   "cell_type": "code",
   "execution_count": 27,
   "id": "8e5fb61b-8fe2-48f1-a231-1eb651efce52",
   "metadata": {},
   "outputs": [],
   "source": [
    "from pyspark.ml.tuning import ParamGridBuilder, CrossValidator\n",
    "from pyspark.ml.evaluation import BinaryClassificationEvaluator"
   ]
  },
  {
   "cell_type": "code",
   "execution_count": 28,
   "id": "705b785e-fffe-4a21-876b-102b60466b1b",
   "metadata": {},
   "outputs": [],
   "source": [
    "# Create a Logistic Regression Model Object\n",
    "lr = LogisticRegression(featuresCol = 'features',\n",
    "                              labelCol = 'label',\n",
    "                              predictionCol = 'prediction'\n",
    "                             )"
   ]
  },
  {
   "cell_type": "code",
   "execution_count": 29,
   "id": "ce12ca0e-972f-451d-ba34-787ef965d50d",
   "metadata": {},
   "outputs": [],
   "source": [
    "# Create a parameter grid for tuning the model\n",
    "lrparamGrid = (ParamGridBuilder()\n",
    "             .addGrid(lr.regParam, [0.001, 0.01, 0.1, 0.5, 1.0, 2.0])\n",
    "             #  .addGrid(lr.regParam, [0.01, 0.1, 0.5])\n",
    "             .addGrid(lr.elasticNetParam, [0.0, 0.25, 0.5, 0.75, 1.0])\n",
    "             #  .addGrid(lr.elasticNetParam, [0.0, 0.5, 1.0])\n",
    "             .addGrid(lr.maxIter, [1, 5, 10, 20, 50])\n",
    "             #  .addGrid(lr.maxIter, [1, 5, 10])\n",
    "             .build())"
   ]
  },
  {
   "cell_type": "code",
   "execution_count": 30,
   "id": "4ae4d227-2685-47ac-a7dc-48b991bc2c75",
   "metadata": {},
   "outputs": [],
   "source": [
    "lrevaluator = BinaryClassificationEvaluator(rawPredictionCol='rawPrediction', metricName = 'areaUnderROC')"
   ]
  },
  {
   "cell_type": "code",
   "execution_count": 31,
   "id": "184b083a-f4a2-4b74-bb17-851505fafb24",
   "metadata": {},
   "outputs": [],
   "source": [
    "# Create 5-fold CrossValidator\n",
    "lrcv = CrossValidator(estimator = lr,\n",
    "                    estimatorParamMaps = lrparamGrid,\n",
    "                    evaluator = lrevaluator,\n",
    "                    numFolds = 5)"
   ]
  },
  {
   "cell_type": "code",
   "execution_count": 32,
   "id": "8679dc32-aedd-4733-8904-299023a43460",
   "metadata": {},
   "outputs": [
    {
     "name": "stdout",
     "output_type": "stream",
     "text": [
      "CrossValidatorModel_024631bd2e06\n"
     ]
    }
   ],
   "source": [
    "# Fit the model to the data and call this model lrcvModel\n",
    "lrcvModel = lrcv.fit(train_data)\n",
    "print(lrcvModel)"
   ]
  },
  {
   "cell_type": "code",
   "execution_count": 33,
   "id": "25cffe5f-261e-4316-a9f5-ea0f72d60bd3",
   "metadata": {},
   "outputs": [],
   "source": [
    "# Check test dataset\n",
    "lrpredictions = lrcvModel.transform(test_data)"
   ]
  },
  {
   "cell_type": "code",
   "execution_count": 34,
   "id": "7535a026-b6d8-4eef-aaea-daa7b634e6f0",
   "metadata": {},
   "outputs": [
    {
     "name": "stdout",
     "output_type": "stream",
     "text": [
      "+----------+-----+-----+\n",
      "|prediction|label|count|\n",
      "+----------+-----+-----+\n",
      "|       1.0|    0|   60|\n",
      "|       0.0|    0|   73|\n",
      "|       0.0|    1|   33|\n",
      "|       1.0|    1|   65|\n",
      "+----------+-----+-----+\n",
      "\n"
     ]
    }
   ],
   "source": [
    "# Inspect results\n",
    "lrpredictions.groupBy('prediction', 'label').count().show(5)"
   ]
  },
  {
   "cell_type": "markdown",
   "id": "5c935bcd-4747-4ea7-90bb-8de9c339ebc1",
   "metadata": {},
   "source": [
    "### Xây dựng model với DecisionTree"
   ]
  },
  {
   "cell_type": "code",
   "execution_count": 35,
   "id": "d950b049-f73c-445b-a404-8bbc68279a84",
   "metadata": {},
   "outputs": [],
   "source": [
    "from pyspark.ml.classification import DecisionTreeClassifier"
   ]
  },
  {
   "cell_type": "code",
   "execution_count": 36,
   "id": "45e91e69-55ef-44b2-97a5-f943a5e37a66",
   "metadata": {},
   "outputs": [],
   "source": [
    "# Create a classifier object and fit to the training data\n",
    "dt = DecisionTreeClassifier(featuresCol='features',\n",
    "                              labelCol='label',\n",
    "                              predictionCol='prediction'\n",
    "                            )"
   ]
  },
  {
   "cell_type": "code",
   "execution_count": 37,
   "id": "4b8c5655-c6e4-4926-8bca-fc78ea4b05e5",
   "metadata": {},
   "outputs": [],
   "source": [
    "# Create a parameter grid for tuning the model\n",
    "dtparamGrid = (ParamGridBuilder()\n",
    "             .addGrid(dt.maxDepth, [2, 5, 10])\n",
    "             .addGrid(dt.maxBins, [5, 10, 15])\n",
    "             .build())"
   ]
  },
  {
   "cell_type": "code",
   "execution_count": 38,
   "id": "929d5589-7392-46d3-b688-e528611a137c",
   "metadata": {},
   "outputs": [],
   "source": [
    "dtevaluator = BinaryClassificationEvaluator(rawPredictionCol='rawPrediction')"
   ]
  },
  {
   "cell_type": "code",
   "execution_count": 39,
   "id": "790062d6-23b7-47a2-b0ae-9461e51665c5",
   "metadata": {},
   "outputs": [],
   "source": [
    "# Create 5-fold CrossValidator\n",
    "dtcv = CrossValidator(estimator = dt,\n",
    "                      estimatorParamMaps = dtparamGrid,\n",
    "                      evaluator = dtevaluator,\n",
    "                      numFolds = 5)"
   ]
  },
  {
   "cell_type": "code",
   "execution_count": 40,
   "id": "4e016b05-e297-4ee6-b554-bc8011478e85",
   "metadata": {},
   "outputs": [
    {
     "name": "stdout",
     "output_type": "stream",
     "text": [
      "CrossValidatorModel_6e281cdaa120\n"
     ]
    }
   ],
   "source": [
    "# Fit the model to the data and call this model dtcvModel\n",
    "dtcvModel = dtcv.fit(train_data)\n",
    "print(dtcvModel)"
   ]
  },
  {
   "cell_type": "code",
   "execution_count": 41,
   "id": "339853a8-412e-4b69-8965-cc7613a830b0",
   "metadata": {},
   "outputs": [],
   "source": [
    "# Check test dataset\n",
    "dtpredictions = dtcvModel.transform(test_data)"
   ]
  },
  {
   "cell_type": "code",
   "execution_count": 42,
   "id": "3c6c532c-c899-4087-8643-e73d54bb7559",
   "metadata": {},
   "outputs": [
    {
     "name": "stdout",
     "output_type": "stream",
     "text": [
      "+----------+-----+-----+\n",
      "|prediction|label|count|\n",
      "+----------+-----+-----+\n",
      "|       1.0|    0|   63|\n",
      "|       0.0|    0|   70|\n",
      "|       0.0|    1|   27|\n",
      "|       1.0|    1|   71|\n",
      "+----------+-----+-----+\n",
      "\n"
     ]
    }
   ],
   "source": [
    "# Inspect results\n",
    "dtpredictions.groupBy('prediction', 'label').count().show(5)"
   ]
  },
  {
   "cell_type": "markdown",
   "id": "3cb5bd7f-65fa-46f8-ae00-f0eeb571add5",
   "metadata": {},
   "source": [
    "### Xây dựng model với RandomForest"
   ]
  },
  {
   "cell_type": "code",
   "execution_count": 43,
   "id": "de333465-34b1-4857-82ab-e89ef8c84889",
   "metadata": {},
   "outputs": [],
   "source": [
    "from pyspark.ml.classification import RandomForestClassifier"
   ]
  },
  {
   "cell_type": "code",
   "execution_count": 44,
   "id": "76e9cc01-6f57-44c2-978a-56fbeabeba30",
   "metadata": {},
   "outputs": [],
   "source": [
    "# Create a classifier object and fit to the training data\n",
    "rf = RandomForestClassifier(featuresCol='features',\n",
    "                              labelCol='label',\n",
    "                              predictionCol='prediction')"
   ]
  },
  {
   "cell_type": "code",
   "execution_count": 45,
   "id": "3cc9343a-3e40-4ef4-bb1a-20977ae74e99",
   "metadata": {},
   "outputs": [],
   "source": [
    "# Create a parameter grid for tuning the model\n",
    "rfparamGrid = (ParamGridBuilder()\n",
    "\n",
    "               .addGrid(rf.maxDepth, [2, 5, 10])\n",
    "\n",
    "               .addGrid(rf.maxBins, [5, 10, 15])\n",
    "\n",
    "               .addGrid(rf.numTrees, [5, 20, 50])\n",
    "             .build())"
   ]
  },
  {
   "cell_type": "code",
   "execution_count": 46,
   "id": "442cfa66-29f3-493f-837e-b16ec715fc97",
   "metadata": {},
   "outputs": [],
   "source": [
    "rfevaluator = BinaryClassificationEvaluator(rawPredictionCol='rawPrediction')"
   ]
  },
  {
   "cell_type": "code",
   "execution_count": 47,
   "id": "3d9e0f0d-f14d-4012-a0b5-37527d4dde9b",
   "metadata": {},
   "outputs": [],
   "source": [
    "# Create 5-fold CrossValidator\n",
    "rfcv = CrossValidator(estimator = rf,\n",
    "                      estimatorParamMaps = rfparamGrid,\n",
    "                      evaluator = rfevaluator,\n",
    "                      numFolds = 5)"
   ]
  },
  {
   "cell_type": "code",
   "execution_count": 48,
   "id": "392a1a1f-1308-4f57-8ecb-908f4b8b155a",
   "metadata": {},
   "outputs": [
    {
     "name": "stdout",
     "output_type": "stream",
     "text": [
      "CrossValidatorModel_3d4dab92f244\n"
     ]
    }
   ],
   "source": [
    "# Fit the model to the data and call this model rfcvModel\n",
    "rfcvModel = rfcv.fit(train_data)\n",
    "print(rfcvModel)"
   ]
  },
  {
   "cell_type": "code",
   "execution_count": 49,
   "id": "9afd2104-6f15-4bdb-bf37-6aa46bb0428a",
   "metadata": {},
   "outputs": [],
   "source": [
    "# Check test dataset\n",
    "rfpredictions = rfcvModel.transform(test_data)"
   ]
  },
  {
   "cell_type": "code",
   "execution_count": 50,
   "id": "323da0fa-ede9-442f-947b-f9b5166d9fe8",
   "metadata": {},
   "outputs": [
    {
     "name": "stdout",
     "output_type": "stream",
     "text": [
      "+----------+-----+-----+\n",
      "|prediction|label|count|\n",
      "+----------+-----+-----+\n",
      "|       1.0|    0|   45|\n",
      "|       0.0|    0|   88|\n",
      "|       0.0|    1|   22|\n",
      "|       1.0|    1|   76|\n",
      "+----------+-----+-----+\n",
      "\n"
     ]
    }
   ],
   "source": [
    "# Inspect results\n",
    "rfpredictions.groupBy('prediction', 'label').count().show(5)"
   ]
  },
  {
   "cell_type": "markdown",
   "id": "403fde63-4a6a-4b4a-8d01-5ed10a250d33",
   "metadata": {},
   "source": [
    "### Xây dựng model với Gradient-Boosting"
   ]
  },
  {
   "cell_type": "code",
   "execution_count": 51,
   "id": "3112a126-d437-48b8-8d57-d8fdf7aa2269",
   "metadata": {},
   "outputs": [],
   "source": [
    "from pyspark.ml.classification import GBTClassifier"
   ]
  },
  {
   "cell_type": "code",
   "execution_count": 52,
   "id": "4d3810fd-7922-4cb7-9de6-33c1e94669a1",
   "metadata": {},
   "outputs": [],
   "source": [
    "# Create a classifier object and fit to the training data\n",
    "gb = GBTClassifier(featuresCol='features',\n",
    "                              labelCol='label',\n",
    "                              predictionCol='prediction')"
   ]
  },
  {
   "cell_type": "code",
   "execution_count": 53,
   "id": "de73a241-2b66-4bc7-8331-92e80ea39bd5",
   "metadata": {},
   "outputs": [],
   "source": [
    "# Create a parameter grid for tuning the model\n",
    "gbparamGrid = (ParamGridBuilder()\n",
    "             .addGrid(gb.maxDepth, [2, 5, 10])\n",
    "             .addGrid(gb.maxBins, [5, 10, 15])\n",
    "             .addGrid(gb.maxIter, [5, 10, 20])\n",
    "             .build())"
   ]
  },
  {
   "cell_type": "code",
   "execution_count": 54,
   "id": "4cbd7220-2fb3-4fe5-a276-885735a690d5",
   "metadata": {},
   "outputs": [],
   "source": [
    "gbevaluator = BinaryClassificationEvaluator(rawPredictionCol='rawPrediction')"
   ]
  },
  {
   "cell_type": "code",
   "execution_count": 55,
   "id": "6015048f-f31a-426d-9cd6-687cdbaac221",
   "metadata": {},
   "outputs": [],
   "source": [
    "# Create 5-fold CrossValidator\n",
    "gbcv = CrossValidator(estimator = gb,\n",
    "                      estimatorParamMaps = gbparamGrid,\n",
    "                      evaluator = gbevaluator,\n",
    "                      numFolds = 5)"
   ]
  },
  {
   "cell_type": "code",
   "execution_count": 56,
   "id": "3e81719d-0af3-435b-803f-42134bfe7ae5",
   "metadata": {},
   "outputs": [
    {
     "name": "stdout",
     "output_type": "stream",
     "text": [
      "CrossValidatorModel_4de5f6ce03b5\n"
     ]
    }
   ],
   "source": [
    "# Fit the model to the data and call this model gbcvModel\n",
    "gbcvModel = gbcv.fit(train_data)\n",
    "print(gbcvModel)"
   ]
  },
  {
   "cell_type": "code",
   "execution_count": 57,
   "id": "4bf301f3-d846-4a52-acad-276bb56a21a6",
   "metadata": {},
   "outputs": [],
   "source": [
    "# Check test dataset\n",
    "gbpredictions = gbcvModel.transform(test_data)"
   ]
  },
  {
   "cell_type": "code",
   "execution_count": 58,
   "id": "4de46d82-ff45-449d-96f1-78ed153a3878",
   "metadata": {},
   "outputs": [
    {
     "name": "stdout",
     "output_type": "stream",
     "text": [
      "+----------+-----+-----+\n",
      "|prediction|label|count|\n",
      "+----------+-----+-----+\n",
      "|       1.0|    0|   44|\n",
      "|       0.0|    0|   89|\n",
      "|       0.0|    1|   33|\n",
      "|       1.0|    1|   65|\n",
      "+----------+-----+-----+\n",
      "\n"
     ]
    }
   ],
   "source": [
    "# Inspect results\n",
    "gbpredictions.groupBy('prediction', 'label').count().show(5)"
   ]
  },
  {
   "cell_type": "markdown",
   "id": "ea701131-4071-44fe-986c-c079887c83ba",
   "metadata": {},
   "source": [
    "### Đánh giá kết quả của các models"
   ]
  },
  {
   "cell_type": "code",
   "execution_count": 59,
   "id": "94eb9ecb-9a73-4309-94c9-391a2a4c8018",
   "metadata": {},
   "outputs": [],
   "source": [
    "from pyspark.ml.evaluation import MulticlassClassificationEvaluator"
   ]
  },
  {
   "cell_type": "code",
   "execution_count": 60,
   "id": "00a939a0-2d71-4581-9b18-830346721b09",
   "metadata": {},
   "outputs": [],
   "source": [
    "# Find weighted precision\n",
    "acc_evaluator = MulticlassClassificationEvaluator(labelCol = 'label',\n",
    "                                                  predictionCol = 'prediction',\n",
    "                                                  metricName = 'accuracy')"
   ]
  },
  {
   "cell_type": "code",
   "execution_count": 61,
   "id": "98cb9d8c-7cdb-47f2-863d-47fda4117320",
   "metadata": {},
   "outputs": [],
   "source": [
    "lr_acc = acc_evaluator.evaluate(lrpredictions)\n",
    "dtc_acc = acc_evaluator.evaluate(dtpredictions)\n",
    "rfc_acc = acc_evaluator.evaluate(rfpredictions)\n",
    "gbt_acc = acc_evaluator.evaluate(gbpredictions)"
   ]
  },
  {
   "cell_type": "code",
   "execution_count": 62,
   "id": "2827b901-2666-49db-a3d2-cb9f512897e5",
   "metadata": {},
   "outputs": [
    {
     "name": "stdout",
     "output_type": "stream",
     "text": [
      "Results: \n",
      "--------------------------------------------------------------------------------\n",
      "A logistic regression - accuracy: 59.74%\n",
      "--------------------------------------------------------------------------------\n",
      "A single decision tree - accuracy: 61.04%\n",
      "--------------------------------------------------------------------------------\n",
      "A random forest ensemble - accuracy: 71.00%\n",
      "--------------------------------------------------------------------------------\n",
      "A ensemble using GBT - accuracy: 66.67%\n"
     ]
    }
   ],
   "source": [
    "print('Results: ')\n",
    "print('-'*80)\n",
    "print('A logistic regression - accuracy: {0:2.2f}%'.format(lr_acc*100))\n",
    "print('-'*80)\n",
    "print('A single decision tree - accuracy: {0:2.2f}%'.format(dtc_acc*100))\n",
    "print('-'*80)\n",
    "print('A random forest ensemble - accuracy: {0:2.2f}%'.format(rfc_acc*100))\n",
    "print('-'*80)\n",
    "print('A ensemble using GBT - accuracy: {0:2.2f}%'.format(gbt_acc*100))"
   ]
  },
  {
   "cell_type": "code",
   "execution_count": 63,
   "id": "c967d24b-3314-47a0-a456-513507317cc2",
   "metadata": {},
   "outputs": [],
   "source": [
    "# Find AUC\n",
    "lr_acc2 = lrevaluator.evaluate(lrpredictions)\n",
    "dtc_acc2 = dtevaluator.evaluate(dtpredictions)\n",
    "rfc_acc2 = rfevaluator.evaluate(rfpredictions)\n",
    "gbt_acc2 = gbevaluator.evaluate(gbpredictions)"
   ]
  },
  {
   "cell_type": "code",
   "execution_count": 64,
   "id": "ba354056-f9ed-494e-bd9e-e37ba119d02d",
   "metadata": {},
   "outputs": [
    {
     "name": "stdout",
     "output_type": "stream",
     "text": [
      "Results\n",
      "--------------------------------------------------------------------------------\n",
      "A logistic regression - accuracy: 65.89%\n",
      "--------------------------------------------------------------------------------\n",
      "A single decision tree has an accuracy of: 55.90%\n",
      "--------------------------------------------------------------------------------\n",
      "A random forest ensemble has an accuracy of: 76.35%\n",
      "--------------------------------------------------------------------------------\n",
      "An ensemble using GBT has an accuracy of: 70.95%\n"
     ]
    }
   ],
   "source": [
    "print('Results')\n",
    "print('-'*80)\n",
    "print('A logistic regression - accuracy: {0:2.2f}%'.format(lr_acc2*100))\n",
    "print('-'*80)\n",
    "print('A single decision tree has an accuracy of: {0:2.2f}%'.format(dtc_acc2*100))\n",
    "print('-'*80)\n",
    "print('A random forest ensemble has an accuracy of: {0:2.2f}%'.format(rfc_acc2*100))\n",
    "print('-'*80)\n",
    "print('An ensemble using GBT has an accuracy of: {0:2.2f}%'.format(gbt_acc2*100))"
   ]
  },
  {
   "cell_type": "markdown",
   "id": "69683019-053b-421b-b8b2-11ad0a58bc55",
   "metadata": {},
   "source": [
    "- Random forest has the highest accuracy so choose random forest"
   ]
  }
 ],
 "metadata": {
  "kernelspec": {
   "display_name": "Python 3 (ipykernel)",
   "language": "python",
   "name": "python3"
  },
  "language_info": {
   "codemirror_mode": {
    "name": "ipython",
    "version": 3
   },
   "file_extension": ".py",
   "mimetype": "text/x-python",
   "name": "python",
   "nbconvert_exporter": "python",
   "pygments_lexer": "ipython3",
   "version": "3.8.9"
  }
 },
 "nbformat": 4,
 "nbformat_minor": 5
}
